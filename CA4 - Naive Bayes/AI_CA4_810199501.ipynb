{
 "cells": [
  {
   "cell_type": "code",
   "execution_count": 2,
   "metadata": {},
   "outputs": [],
   "source": [
    "from __future__ import unicode_literals\n",
    "from hazm import *\n",
    "import pandas as pd \n",
    "import numpy as np\n",
    "import matplotlib.pyplot as plt\n",
    "from arabic_reshaper import reshape\n",
    "from bidi.algorithm import get_display"
   ]
  },
  {
   "cell_type": "code",
   "execution_count": 3,
   "metadata": {},
   "outputs": [
    {
     "name": "stdout",
     "output_type": "stream",
     "text": [
      "['فناوری' 'ورزشی' 'حوادث' 'سلامت' 'سیاسی' 'فرهنگی/هنری']\n"
     ]
    },
    {
     "data": {
      "text/plain": [
       "فناوری         1500\n",
       "ورزشی          1500\n",
       "حوادث          1500\n",
       "سلامت          1500\n",
       "سیاسی          1500\n",
       "فرهنگی/هنری    1500\n",
       "Name: label, dtype: int64"
      ]
     },
     "metadata": {},
     "output_type": "display_data"
    }
   ],
   "source": [
    "STOP_WORDS_FILE = 'stop_words.txt'\n",
    "NGRAM = 1\n",
    "trainData = pd.read_csv(\"train.csv\")\n",
    "testData = pd.read_csv(\"test.csv\")\n",
    "labels = trainData['label'].unique()\n",
    "print(labels)\n",
    "display(trainData['label'].value_counts())"
   ]
  },
  {
   "cell_type": "markdown",
   "metadata": {},
   "source": [
    "<div dir='rtl'>\n",
    "ابتدا لیست لیبل ها را دخیره می کنیم  و سپس تعداد داده هایی که متعلق به هر داده است را چاپ می کنیم. همانطور که می بینیم تعدا تکرار برای هر لیبل یکسان است. اگر اینطور نبود و داده های مربوط به یک لیبل تعداد بسیار کمتری نسبت به بقیه ی لیبل ها داشت ممکن بود این مشکل پیش بیاید که داده هایی که مربوط به آن دسته از لیبل باشند به خوبی پیش بینی نشوند.  </br>\n",
    "\n",
    "</div>"
   ]
  },
  {
   "cell_type": "code",
   "execution_count": 4,
   "metadata": {},
   "outputs": [],
   "source": [
    "class StopWordsProcess:\n",
    "\n",
    "    def __init__(self, doesStemming=False, doesLemmatize=True):\n",
    "        self.stopWords = []\n",
    "        self.stemmer = Stemmer()\n",
    "        self.lemmatizer = Lemmatizer()\n",
    "        self.doesStemming = doesStemming\n",
    "        self.doesLemmatize = doesLemmatize\n",
    "    def normalize(self):\n",
    "        if self.doesStemming:\n",
    "            self.stopWords = list(map(self.stemmer.stem, self.stopWords))\n",
    "        if self.doesLemmatize:\n",
    "            self.stopWords = list(map(self.lemmatizer.lemmatize, self.stopWords))\n",
    "\n",
    "    def getStopWords(self):\n",
    "        with open(STOP_WORDS_FILE, encoding=\"utf-8\") as f:\n",
    "            self.stopWords = [word.replace('\\u200c', ' ').strip() for word in f if word]\n",
    "        self.stopWords.append('\\n')\n",
    "        self.stopWords.append('\\r')\n",
    "        self.stopWords.append('\\xA0')\n",
    "        self.normalize()\n",
    "        return self.stopWords\n"
   ]
  },
  {
   "cell_type": "markdown",
   "metadata": {},
   "source": [
    "<div dir='rtl'>\n",
    "ایست واژه ها در زبان فارسی در فایل\n",
    "stop_words.s\n",
    "ذخیره شده‌اند و ما به ازای هر خط از این فایل (که شامل یک ایست واژه است) عملیات \n",
    "strip\n",
    "را روی آن انجام می‌دهیم؛ این تابع رشته بدون هیچ اسپیسی در ابتدا یا انتهایش را به ما برمی‌گرداند. سپس به لیست ایست‌ واژه‌ها \n",
    "'\\r' , '\\n'\n",
    "را نیز اضافه می‌کنیم.\n",
    " توابع دیگر این کلاس در ادامه توضیح داده خواهد شد.\n",
    "</div>"
   ]
  },
  {
   "cell_type": "markdown",
   "metadata": {},
   "source": [
    "<h1>#Phase 1 (Preprocessing Data)</h1>"
   ]
  },
  {
   "cell_type": "code",
   "execution_count": 5,
   "metadata": {},
   "outputs": [
    {
     "name": "stdout",
     "output_type": "stream",
     "text": [
      "examples of stemmer:\n",
      "رو\n",
      "برو\n",
      "رفتند\n",
      "رفت\n",
      "رفتن\n",
      "examples of lemmatizer:\n",
      "رو\n",
      "رفت#رو\n",
      "رفت#رو\n",
      "رفت#رو\n",
      "رفتن\n",
      "خواندنی\n",
      "کتاب\n",
      "examples of normalizer:\n"
     ]
    },
    {
     "data": {
      "text/plain": [
       "'اصلاح نویسه\\u200cها و استفاده از نیم فاصله پردازش را آسان می\\u200cکند'"
      ]
     },
     "execution_count": 5,
     "metadata": {},
     "output_type": "execute_result"
    }
   ],
   "source": [
    "normalizer = Normalizer()\n",
    "stemmer = Stemmer()\n",
    "lemmatizer = Lemmatizer()\n",
    "print(\"examples of stemmer:\")\n",
    "print(stemmer.stem(\"روم\"))\n",
    "print(stemmer.stem(\"بروم\"))\n",
    "print(stemmer.stem(\"رفتند\"))\n",
    "print(stemmer.stem(\"رفتیم\"))\n",
    "print(stemmer.stem(\"رفتن\"))\n",
    "\n",
    "print(\"examples of lemmatizer:\")\n",
    "print(lemmatizer.lemmatize(\"رو\"))\n",
    "print(lemmatizer.lemmatize(\"بروم\"))\n",
    "print(lemmatizer.lemmatize(\"رفتند\"))\n",
    "print(lemmatizer.lemmatize(\"رفتیم\"))\n",
    "print(lemmatizer.lemmatize(\"رفتن\"))\n",
    "print(lemmatizer.lemmatize(\"خواندنی\"))\n",
    "print(lemmatizer.lemmatize(\"کتابها\"))\n",
    "\n",
    "print(\"examples of normalizer:\")\n",
    "normalizer.normalize ( 'اصلاح نویسه ها و استفاده از نیم فاصله پردازش را آسان می کند' )\n",
    "\n"
   ]
  },
  {
   "cell_type": "markdown",
   "metadata": {},
   "source": [
    "**Question 1**"
   ]
  },
  {
   "cell_type": "markdown",
   "metadata": {},
   "source": [
    "<div dir='rtl'>\n",
    "استفاده از \n",
    "stemming\n",
    "پسوندهایی که بدون معنی هستند را از انتهای کلمه حذف می کند تا لغاتی که معنای نزدیک به هم دارند یک لغت در نظر گرفته شوند. البته همانطور که می بینیم در اینجا \n",
    "stemming\n",
    "آنقدر موفق عمل نکرده و انتهای کلمه ای مانند رفتند را حذف نکرده است.   </br>\n",
    "lemmatization\n",
    "بن مضارع و بن ماضی فعل داده شده را برمیگرداند یعنی درواقع پسوندها و پیشوندهایی که معنا ندارند را حذف می کند چون کلماتی که ریشه آنها یا به عبارتی بن ماضی و مضارع آنها یکسان است از نظر معنایی در یک دسته قرار می گیرند.\n",
    "در کلماتی که فعل نیستند، ریشه را برمیگرداند مثل تبدیل کتابها به کتاب و مثال‌هایی مانند این </br>\n",
    "normalizer\n",
    "در واقع به طور کلی به یک جمله نگاه می کند و آن را نرمال می کند مثلا در جمله داده شده از نیم فاصله استفاده نشده بود و با نرمال کردن آن اسپیس در جاهایی که لازم بود به نیم فاصله تبدیل شد. این ابزار زمانی بکار گرفته می شود که پردازش روی جمله های داده انجام می شود و نه فقط کلمات داده به صورت تکی. </br>\n",
    "\n",
    "</div>"
   ]
  },
  {
   "cell_type": "code",
   "execution_count": 6,
   "metadata": {},
   "outputs": [],
   "source": [
    "replacement = { 'stem' : False , 'lem' : True}\n",
    "\n",
    "def replacmentInWords(words):\n",
    "    if replacement['stem']:\n",
    "        words  = list(map(stemmer.stem, words))\n",
    "    if replacement['lem']:\n",
    "        words  = list(map(lemmatizer.lemmatize, words))\n",
    "    return words\n",
    "ss = StopWordsProcess(doesStemming=replacement['stem'], doesLemmatize=replacement['lem'])\n",
    "stopWords = ss.getStopWords()\n",
    "stopWords = set(stopWords)\n",
    "\n"
   ]
  },
  {
   "cell_type": "markdown",
   "metadata": {},
   "source": [
    "<div dir='rtl'>\n",
    "\n",
    "replacement\n",
    "که نشان می‌دهد هرکدام از عملیات \n",
    "lemmatization, stemming\n",
    "روی داده‌ها انجام می‌شوند یا خیر را به\n",
    "تابع پاس می‌دهیم و جایگزینی ایست واژه‌ها را انجام می‌دهیم و در نهایت یک ست از آنها که عضو تکراری ندارد را در ایست واژه ها می‌ریزیم. </br>\n",
    "</div>"
   ]
  },
  {
   "cell_type": "code",
   "execution_count": 7,
   "metadata": {},
   "outputs": [],
   "source": [
    "def preProcessOnEachContent(content):\n",
    "    contentWithoutSemiSpaces = str(content).replace('\\u200c', ' ')\n",
    "    words = word_tokenize(contentWithoutSemiSpaces)\n",
    "    words = replacmentInWords(words)\n",
    "    words = [word for word in words if word not in stopWords]\n",
    "    return words"
   ]
  },
  {
   "cell_type": "code",
   "execution_count": 8,
   "metadata": {},
   "outputs": [],
   "source": [
    "trainRows = trainData.shape[0]\n",
    "testRows = testData.shape[0]\n",
    "\n",
    "def preProcess():\n",
    "    trainDataContentWords = [[] for i in range(trainRows)]\n",
    "    testDataContentWords = [[] for i in range(testRows)]\n",
    "    trainDataLabels = [0 for i in range(trainRows)]\n",
    "    testDataLabels = [0 for i in range(testRows)]\n",
    "\n",
    "    i = 0\n",
    "    for index, row in trainData.iterrows():\n",
    "        trainDataContentWords[i] = preProcessOnEachContent(row['content'])\n",
    "        trainDataLabels[i] = row['label']\n",
    "        i += 1\n",
    "    i = 0\n",
    "    for index, row in testData.iterrows():\n",
    "        testDataContentWords[i] = preProcessOnEachContent(row['content'])\n",
    "        testDataLabels[i] = row['label']\n",
    "        i += 1\n",
    "    return trainDataContentWords, trainDataLabels, testDataContentWords, testDataLabels\n",
    "    \n",
    "trainDataContentWords, trainDataLabels, testDataContentWords, testDataLabels = preProcess()\n"
   ]
  },
  {
   "cell_type": "markdown",
   "metadata": {},
   "source": [
    "<div dir='rtl'>\n",
    "در تابع\n",
    "preProcessOnEachcontent \n",
    "ابتدا نیم‌فاصله را با فاصله جایگزین می‌کنیم و کلمات را در هر \n",
    "content\n",
    "جدا کرده و جایگزینی \n",
    "lemmatiation \n",
    "را روی آن انجام می‌دهیم و ایست واژه‌ها را از آن حذف می‌کنیم؛ عملیات ذکر شده را به ازای هر سطر \n",
    "content\n",
    "در داده‌ی تست و داده‌ی \n",
    "train\n",
    "انجام می‌دهیم. </br>\n",
    "\n",
    "</div>"
   ]
  },
  {
   "cell_type": "markdown",
   "metadata": {},
   "source": [
    "<h1>#Phase 2 (Problem Process)</h1>"
   ]
  },
  {
   "cell_type": "markdown",
   "metadata": {},
   "source": [
    "**Question 2**"
   ]
  },
  {
   "cell_type": "markdown",
   "metadata": {},
   "source": [
    "$P(c|x) = \\frac{P(x|c)  P(c)}{P(x)}$\n",
    "\n",
    "<div dir='rtl'>\n",
    "قانون بیز در بالا نشان داده شده است. در اینجا متغیرها به ظرح زیر هستند: </br>\n",
    "\n",
    "P(c|x): \n",
    "احتمال اینکه لیبل خبر داده شده، \n",
    "c\n",
    "باشد به شرط اینکه لغات \n",
    "x \n",
    "در \n",
    "content \n",
    "آن دیده شده باشد.\n",
    "(Posterior Probability) </br>\n",
    "\n",
    "P(c):\n",
    "احتمال اینکه لیبل خبر،\n",
    "c \n",
    "باشد.\n",
    "(Class Prior Probability) </br>\n",
    "\n",
    "P(x):\n",
    "احتمال اینکه در \n",
    "content \n",
    "خبر، لغات \n",
    "x \n",
    "دیده شود. \n",
    "(Evidence) </br>\n",
    "\n",
    "P(x|c):\n",
    "احتمال اینکه لغات \n",
    "x \n",
    "در لیبل \n",
    "c\n",
    " دیده شوند. \n",
    " (Likelihood) </br>\n",
    "\n",
    "از فرض \n",
    "naive bayes \n",
    "استفاده می‌کنیم که در آن حضور یک ویژگی مشخص در یک کلاس مستقل از حضور ویژگی‌های دیگر در آن است. در واقع در اینجا احتمال وجود یک لغت در متن یک خبر را مستقل از وجود لغت‌های دیگر در نظر می‌گیریم؛ همانطور که می‌دانیم این شرط برای سادگی در اینجا در نظر گرفته شده است و در واقعیت اینطور نیست. پس باید احتمال هریک از لغاتی که در \n",
    "x\n",
    "وجود دارند را محاسبه کنیم؛ برای اینکار فرمول \n",
    "P(c|x) \n",
    "به صورت رو به رو در می‌آید: \n",
    "P(c|x) = P(x<sub>1</sub>|c) P(x<sub>1</sub>|c) P(x<sub>2</sub>|c)...P(x<sub>n</sub>|c) \n",
    "که \n",
    "x<sub>i</sub> \n",
    "در اینجا زنجیره‌ای از لغات به هم چسبیده و یا یک لغت است. </br>\n",
    "در این مساله نیازی به محاسبه \n",
    "P(x) \n",
    "نیست چون این مقدار برای تمامی حالات یکسان است و تاثیری ندارد؛ برای محاسبه \n",
    "P(x|c) \n",
    "همانطور که گفته شد هر یک از لغات موجود در \n",
    "x \n",
    "را در نظرمی ‌گیریم و تعداد تکرار آنها را در هر لیبل محاسبه می‌کنیم تا احتمال بدست آید. (به جای ضرب احتمال از جمع لگاریتم آنها استفاده می‌کنیم تا اعداد بسیار کوچک نشوند.) در نهایت برای محاسبه \n",
    "P(c) \n",
    "در بین داده‌ی \n",
    "train \n",
    "تعداد داده هایی که در هر لیبل قرار دارند را به تعداد کل داده‌ها تقسیم می‌کنیم؛ در این مورد نیز به جای ضرب این احتمال در \n",
    "P(x|c) \n",
    "ار جمع لگاریتم آنها استفاده می‌کنیم. \n",
    "</div>\n",
    "\n",
    "\n"
   ]
  },
  {
   "cell_type": "markdown",
   "metadata": {},
   "source": [
    "**Question 3**"
   ]
  },
  {
   "cell_type": "markdown",
   "metadata": {},
   "source": [
    "<h3>Bigram</h3>\n",
    "<div dir='rtl'>\n",
    "تولید کردن \n",
    "ngram\n",
    "ها مقدار اطلاعات ما از متن را افزایش می‌دهد. در زیر دو مثال دیده می‌شود که کلمه \n",
    "\"شیر\" \n",
    "در آنها معنی متفاوتی دارد: </br>\n",
    "آوا شیر را خورد. </br>\n",
    "شیر آوا را خورد. </br>\n",
    "با استفاده از \n",
    "bigram \n",
    "در جمله‌های بالا، فیچرهای جمله اول تبدیل به آوا شیر، شیر را، را خورد می شود و فیچرهای دوم تبدیل به شیر آوا، آوا را، را خورد می‌شود؛ همانطور که می‌بینیم استفده از \n",
    "bigram \n",
    "باعث شد فیچرهای به وجود آمده باهم متفاوت باشند درصورتی که اگر دو جمله را کلمه به کلمه باهم مقایسه می‌کردیم، عیننا مشابه یکدیگر می‌شدند. در واقع با توجه به محل قرارگیری هر کلمه توانستیم باعث تمییز معنای دو جمله از یکدیگر شویم. در مثال زده شده استفاده از \n",
    "bigram \n",
    "برای تشخیص معنی کافی است ولی ممکن است در مثال‌های دیگر مجبور به استفاده از \n",
    "ngram \n",
    "با \n",
    "n \n",
    "های بزرگتری شویم. </br>\n",
    "یکی از مشکلاتی که \n",
    "ngram \n",
    "ها دارند این است که ممکن است باعث \n",
    "overfit \n",
    "کردن  شود یعنی مدل ما نسبت یه مجموعه‌ای از فیچرهایی که \n",
    "ngram \n",
    "تشکیل داده است حساس می‌شود و ممکن است فیچرهای داده‌س تست را به خوبی تشخیص ندهد به همین دلیل در این پروژه تصمیم بر این شد که از \n",
    "bigram \n",
    "استفاده نشود. </br> \n",
    "</div>"
   ]
  },
  {
   "cell_type": "code",
   "execution_count": 9,
   "metadata": {},
   "outputs": [],
   "source": [
    "def generateNgram(words, n=1):\n",
    "    ngrams = []\n",
    "    for i in range(len(words) - n + 1):\n",
    "        ngrams.append(tuple(words[i:i+n]))\n",
    "    return ngrams"
   ]
  },
  {
   "cell_type": "markdown",
   "metadata": {},
   "source": [
    "<div dir='rtl'>\n",
    "در تابع بالا \n",
    "ngram \n",
    "ها را با \n",
    "n \n",
    "دلخواه تولید می‌کنیم و آنها را در لیستی ریخته و ریترن می‌کنیم. </br>\n",
    "\n",
    "</div>"
   ]
  },
  {
   "cell_type": "code",
   "execution_count": 10,
   "metadata": {},
   "outputs": [],
   "source": [
    "def countWordsFreq(trainDataContentWords, trainDataLabels, n=1):\n",
    "    ngramDict = {}\n",
    "    totalCount = { label : 0 for label in labels}\n",
    "    labelsWords = { label : set() for label in labels}\n",
    "    for i in range(trainRows):\n",
    "\n",
    "        ngrams = generateNgram(trainDataContentWords[i], n)\n",
    "        for ngram in ngrams:\n",
    "            labelsWords[trainDataLabels[i]].update(ngram)\n",
    "            if trainDataLabels[i] not in ngramDict:\n",
    "                ngramDict[trainDataLabels[i]] = {}\n",
    "            if ngram not in ngramDict[trainDataLabels[i]]:\n",
    "                ngramDict[trainDataLabels[i]][ngram] = 1\n",
    "            else:\n",
    "                ngramDict[trainDataLabels[i]][ngram] += 1\n",
    "            totalCount[trainDataLabels[i]] += 1\n",
    "    return ngramDict, totalCount, labelsWords"
   ]
  },
  {
   "cell_type": "markdown",
   "metadata": {},
   "source": [
    "<div dir='rtl'>\n",
    "در تابع بالا تعداد لغات تکرار شده به ازای هر لیبل را بدست می‌آوریم؛ درصورتی که آن لغت در آن لیبل وجود نداشت تعداد تکرار آن را برابر با 1 و در غیر این صورت یک واحد به تعداد قبلی آن اضافه می‌کنیم. </br>\n",
    "\n",
    "</div>"
   ]
  },
  {
   "cell_type": "code",
   "execution_count": 11,
   "metadata": {},
   "outputs": [
    {
     "data": {
      "image/png": "[encoded data removed]",
      "text/plain": [
       "<Figure size 1440x1440 with 6 Axes>"
      ]
     },
     "metadata": {
      "needs_background": "light"
     },
     "output_type": "display_data"
    }
   ],
   "source": [
    "def plotFrequentWords(ngramDict, frequentWordsCount=5):\n",
    "    figure , axis = plt.subplots(nrows=len(labels), ncols=1, figsize=(20, 20))\n",
    "    figure.subplots_adjust(hspace=0.5)\n",
    "    figure.supxlabel('frequent words')\n",
    "    figure.supylabel('count')\n",
    "    for i in  range(len(labels)):\n",
    "        label = labels[i]\n",
    "        frequentWords = dict(sorted(ngramDict[label].items(), key=lambda item: item[1], reverse=True)[:frequentWordsCount])\n",
    "        keys = list(get_display(reshape(str(key)))for key in frequentWords.keys())\n",
    "        values = list(frequentWords.values())\n",
    "        axis[i].bar(keys, values)\n",
    "        axis[i].set_title(get_display(reshape(label)))\n",
    "    plt.show()\n",
    "\n",
    "ngramDict , totalCount, labelsWords = countWordsFreq(trainDataContentWords, trainDataLabels, 1)\n",
    "plotFrequentWords(ngramDict, 5)"
   ]
  },
  {
   "cell_type": "markdown",
   "metadata": {},
   "source": [
    "**Question 6**"
   ]
  },
  {
   "cell_type": "markdown",
   "metadata": {},
   "source": [
    "<div dir='rtl'>\n",
    "در بالا نمودار و محاسبه فرکانس فیچرها به ازای \n",
    "n = 1 \n",
    "انجام شده است\n",
    "\n",
    "</div>"
   ]
  },
  {
   "cell_type": "code",
   "execution_count": 12,
   "metadata": {},
   "outputs": [
    {
     "data": {
      "image/png": "[encoded data removed]",
      "text/plain": [
       "<Figure size 1440x1440 with 6 Axes>"
      ]
     },
     "metadata": {
      "needs_background": "light"
     },
     "output_type": "display_data"
    }
   ],
   "source": [
    "bigramDict , totalCountBigram, labelsWordsBigram = countWordsFreq(trainDataContentWords, trainDataLabels, 2)\n",
    "plotFrequentWords(bigramDict, 5)"
   ]
  },
  {
   "cell_type": "markdown",
   "metadata": {},
   "source": [
    "<div dir='rtl'>\n",
    "در بالا نمودار و محاسبه فرکانس فیچرها به ازای \n",
    "n = 2\n",
    "انجام شده است\n",
    "\n",
    "</div>"
   ]
  },
  {
   "cell_type": "markdown",
   "metadata": {},
   "source": [
    "<div dir='rtl'>\n",
    "همانطور که می‌بینیم لغات \"ایسنا\"، \"سال\"، \"ایران\"، \"کشور\" لغات پرتکراری هستند که نمی‌توان آنها را به لیبل خاصی نسبت داد پس اقدام به حذف آنها می‌کنیم و آنها را در ایست واژه‌ها اضافه می‌کنیم و همچنین لغا گوشی به صوزت گوش آمده است چون آن را لملتایز کرده ایم پس آن را نیز اضافه می‌کنیم. </br>\n",
    "</div>"
   ]
  },
  {
   "cell_type": "code",
   "execution_count": 13,
   "metadata": {},
   "outputs": [
    {
     "data": {
      "image/png": "[encoded data removed]",
      "text/plain": [
       "<Figure size 1440x1440 with 6 Axes>"
      ]
     },
     "metadata": {
      "needs_background": "light"
     },
     "output_type": "display_data"
    },
    {
     "data": {
      "image/png": "[encoded data removed]",
      "text/plain": [
       "<Figure size 1440x1440 with 6 Axes>"
      ]
     },
     "metadata": {
      "needs_background": "light"
     },
     "output_type": "display_data"
    }
   ],
   "source": [
    "stopWords.update(['سال', 'ایران', 'کشور', 'ایسنا', 'اسلام', 'گوش'])\n",
    "trainDataContentWords, trainDataLabels, testDataContentWords, testDataLabels = preProcess()\n",
    "ngramDict , totalCount, labelsWords = countWordsFreq(trainDataContentWords, trainDataLabels, 1)\n",
    "plotFrequentWords(ngramDict, 5)\n",
    "ngramDict , totalCount, labelsWords = countWordsFreq(trainDataContentWords, trainDataLabels, NGRAM)\n",
    "plotFrequentWords(ngramDict, 5)\n"
   ]
  },
  {
   "cell_type": "markdown",
   "metadata": {},
   "source": [
    "<h3>Additive Smoothing</h3>"
   ]
  },
  {
   "cell_type": "markdown",
   "metadata": {},
   "source": [
    "**Question 4**"
   ]
  },
  {
   "cell_type": "markdown",
   "metadata": {},
   "source": [
    "<div dir='rtl'>\n",
    "همانطور که توضیح داده شد، \n",
    "naive bayes \n",
    "به گونه‌ای طراحی شده است که درصورتی که یک فیچر تنها در یک لیبل وجود داشته باشد و در لیبل‌های دیگر وجود نداشته باشد، اگر داده‌ی تست آن فیچر وجود داشته باشد، به طور قطعی تشخیص می‌دهد که مربوط به آن لیبلی است که آن فیچر را دارد؛ در واقع احتمال وجود داشتن فیچر \n",
    "x \n",
    "درصورتی که لیبل \n",
    "c \n",
    "باشد را برابر صفر در نظر می‌گیرد. \n",
    "P(x|c) = 0 \n",
    "و در نتیجه طبق قانون بیز و تناسب داشتن \n",
    "P(c|x) \n",
    "با \n",
    "P(x|c)\n",
    "،\n",
    "پس \n",
    "P(c|x)\n",
    "نیز برابر با 0 می‌شود، یعنی احتمال لیبل \n",
    "c \n",
    "داشتن درصورتی که فیچر \n",
    "x\n",
    "وجود داشته باشد. </br>\n",
    "\n",
    "</div>"
   ]
  },
  {
   "cell_type": "markdown",
   "metadata": {},
   "source": [
    "**Question 5**"
   ]
  },
  {
   "cell_type": "markdown",
   "metadata": {},
   "source": [
    "$p_i= \\frac{(x_i + \\alpha)}{N + \\alpha d}$\n",
    "<div dir='rtl'>\n",
    "می‌توان برای حل مشکل گفته شده احتمال را به صورت بالا محاسبه کرد که در اینجا \n",
    "x<sub>i</sub>\n",
    "تعداد تکرار لغت و \n",
    "N \n",
    "تعداد کل و \n",
    "d \n",
    "تعدادفیچرها در تست وآلفا، درجه\n",
    "smoothing \n",
    "است. اگر آلفا عددی غیر از 0 باشد صورت کسر هیچ‌گاه صفر نمی‌شود و احتمال به جای عدد 0 عدد کوچک غیرصفری می‌شود. برای مساله ما باید این احتمالات را در هم ضرب کنیم که با اینکار اعداد بدست آمده بسیار کوچک و نزدیک به هم می‌شوند و مقایسه آنها مشکل و با خطا مواجه می‌شود؛ برای برطرف کردن این مشکل، ما از احتمالات لگاریتم می‌گیریم و به جای ضرب آنها، جمع لگاریتم‌های آنها را محاسبه می‌کنیم. </br>   \n",
    "\n",
    "</div>"
   ]
  },
  {
   "cell_type": "code",
   "execution_count": 14,
   "metadata": {},
   "outputs": [],
   "source": [
    "def calcSumLogProbability(ngramDict, totalCount, ngrams, label, alpha = 0):\n",
    "    sumProb = 0\n",
    "    for ngram in ngrams:\n",
    "        if ngram in ngramDict[label]:        \n",
    "            sumProb += np.log((ngramDict[label][ngram] + alpha) / (totalCount[label] + alpha * len(labelsWords[label])))\n",
    "        elif alpha == 0:\n",
    "            sumProb += np.log(10**-90)\n",
    "        else:\n",
    "            sumProb += np.log((alpha) / (totalCount[label] + alpha * len(labelsWords[label])))\n",
    "\n",
    "    return sumProb"
   ]
  },
  {
   "cell_type": "code",
   "execution_count": 15,
   "metadata": {},
   "outputs": [],
   "source": [
    "allLabelsDatasCount = np.sum(list(trainData['label'].value_counts()))\n",
    "allLabelsCountTest = np.sum(list(testData['label'].value_counts()))\n",
    "labelsDataCount = dict()\n",
    "labelsDataTestCount = dict()\n",
    "for label in labels:\n",
    "    labelsDataCount[label] = trainData['label'].value_counts()[label]\n",
    "    labelsDataTestCount[label] = testData['label'].value_counts()[label]\n",
    "calcPriorProb = lambda label : labelsDataCount[label] / allLabelsDatasCount\n",
    "calcPriorTestProb = lambda label : labelsDataTestCount[label] / allLabelsCountTest"
   ]
  },
  {
   "cell_type": "markdown",
   "metadata": {},
   "source": [
    "<div dir='rtl'>\n",
    "در تابع نوشته شده احتمال هر لیبل مشخص می‌شود که در واقع در بیز همان \n",
    "Class Prior Probability \n",
    "است. در این مساله چون تعداد داده برای هر لیبل برابر است این احتمال برای همه‌ی لیبل‌ها برابر است. </br>\n",
    "\n",
    "</div>"
   ]
  },
  {
   "cell_type": "code",
   "execution_count": 16,
   "metadata": {},
   "outputs": [],
   "source": [
    "def predictLabels(testDataContentWords, ngramDict, totalCount, alpha = 0):\n",
    "    predictedLabels = []\n",
    "    for i in range(testRows):\n",
    "        ngrams = generateNgram(testDataContentWords[i], NGRAM)\n",
    "        maxProb = -np.inf\n",
    "        maxLabel = ''\n",
    "        for label in labels:\n",
    "            sumProb = calcSumLogProbability(ngramDict, totalCount, ngrams, label, alpha)\n",
    "            priorProb = calcPriorProb(label)\n",
    "            prob = sumProb + np.log(priorProb)\n",
    "            if prob > maxProb:\n",
    "                maxProb = prob\n",
    "                maxLabel = label\n",
    "        predictedLabels.append(maxLabel)\n",
    "    return predictedLabels\n",
    "predictedWithoutSmoothing = predictLabels(testDataContentWords, ngramDict, totalCount, 0)"
   ]
  },
  {
   "cell_type": "markdown",
   "metadata": {},
   "source": [
    "<h1>#Phase 3 (Testing)</h1>"
   ]
  },
  {
   "cell_type": "markdown",
   "metadata": {},
   "source": [
    "**Question 7**\n",
    "<div dir='rtl'>\n",
    "precision \n",
    "بیان می‌کند نسبت تعداد خبرهایی که به درستی در دسته بندی موردنظر تشخیص داده شده‌اند به تعداد تمام خبرهایی که تشخیص داده شده‌اند (چه درست و چه غلط) چقدر است؛ \n",
    "recall \n",
    "نسبت تعداد خبرهایی که به درستی در دسته بندی مورد نظر تشخیص داده شده‌اند را به تعداد تمام خبرهایی که در مجموعه داده تست در آن دسته بندی خاص قرار دارند، نشان می‌دهد. در واقع \n",
    "recall \n",
    "توانایی یافتن تمام نمونه‌های مرتبط یک کلاس را در مجموعه داده بیان می‌کند ولی  \n",
    "precision \n",
    "نسبت تعداد تشخیص‌های درست به کل تشخیص‌های داده شده برای یک کلاس را به ما می‌دهد. با کمی دقت درمی‌یابیم که \n",
    "recall \n",
    "و\n",
    "precision \n",
    "مخالف یکدیگر عمل می‌کنند و درواقع بالا رفتن یکی باعث کم شدن مقدار دیگری می‌شود و باید ترکیبی از این دو که همان \n",
    "F1\n",
    "است برای بررسی داده استفاده شود. </br>\n",
    "مثالی را در نظر بگیرید که تنها لیبل یک خبر را بررسی کردیم و این لیبل را درست تشخیص داده‌ایم؛ در این مثال \n",
    "precision \n",
    "ما برابر با 1 خواهد بود درحالی که \n",
    "recall \n",
    "مقدار ناچیزی دارد. (در واقع ممکن است با بررسی داده‌های دیگر و لیبل زدن روی آنها ممکن است به این نتیجه برسیم که الگوریتم ما کارکرد خوبی ندارد پس \n",
    "precision \n",
    "به تنهایی نمی‌تواند معیار مناسبی باشد.)\n",
    "در مثالی دیگر فرض کنین لیبل تمامی داده‌های تست را یک لیبل خاص (مثلا \n",
    "c)\n",
    "پیش بینی کرده‌ایم، در اینصورت مقدار \n",
    "recall \n",
    "برابر با 1 و مقدار \n",
    "precision \n",
    "ناچیز خواهد بود؛ پس \n",
    "recall \n",
    "نیز به تنهایی نمی‌تواند به تنهایی معیار مناسبی باشد.\n",
    "\n",
    "</div>"
   ]
  },
  {
   "cell_type": "markdown",
   "metadata": {},
   "source": [
    "**Question 8**"
   ]
  },
  {
   "cell_type": "markdown",
   "metadata": {},
   "source": [
    "$mean = \\frac{n}{\\frac{1}{x_1} + \\frac{1}{x_2} + ... + \\frac{1}{x_n}}$\n",
    "<div dir='rtl'>\n",
    "در \n",
    "F1 \n",
    "از میانگین هارمونیک استفاده می‌شود که فرمول آن در بالا نشان داده شده است؛ اگر در این فرمول \n",
    "n \n",
    "را برابر با 2 قرار دهیم به فرمول \n",
    "F1 \n",
    "می‌رسیم. همانطور که توضیح داده شد \n",
    "recall \n",
    "و \n",
    "precison \n",
    "عکس یکدیگر عمل می‌کنند و بالا رفتن یکی سبب پایین آمدن دیگری می‌شود پس ما باید نوعی از میانگین را انتخاب کنیم که اگر یکی از این دو مقدار ناچیزی داشت، مقدار میانگین نیز زیاد نشود. در زیر میانگین هندسی و میانگین حسابی و میانگین هارمونیک با دو احتمال 0.4 و 0.9 برای \n",
    "recall \n",
    "و\n",
    "precision \n",
    "محاسبه شده است. </br>\n",
    " \n",
    " میانگین حسابی = 2/(0.4 + 0.9) = 0.65\n",
    "</br>\n",
    "میانگین هندسی = 0.6\n",
    "</br>\n",
    "میانگین هارمونیک = 0.55\n",
    "</br>\n",
    "\n",
    "</div>"
   ]
  },
  {
   "cell_type": "markdown",
   "metadata": {},
   "source": [
    "**Question 9**"
   ]
  },
  {
   "cell_type": "markdown",
   "metadata": {},
   "source": [
    "\n",
    "$Macro-F1 = \\frac{F1_1 + F1_2 + ... + F1_n}{n}$ </br>\n",
    "$Weighted-F1 = P(c_1)F1_1 +  P(c_2)F1_2 + ... +  P(c_n)F1_n $ </br>\n",
    "$Micro-F1 = \\frac{CorrectDetected}{AllDetected}$ </br>\n",
    "\n",
    "\n",
    "<div dir='rtl'>\n",
    "معیار \n",
    "F1 \n",
    "تنها برای یک کلاس استفاده می‌شود درحالی که ممکن است دسته‌های مختلفی برای تصمیم‌گیری داشته باشیم؛ در این شرایط از سه معیاری که فرمول آنها در بالا آمده است برای ارزیابی کلی استفاده می‌کنیم. در \n",
    "Macro \n",
    "میانگین حسابی \n",
    "n \n",
    "تا از \n",
    "F1 \n",
    "ها را بدست می‌آوریم؛ در \n",
    "Weighted-F1\n",
    "میانگین وزن دار \n",
    "F1 \n",
    "ها را محاسبه می‌کنیم. در واقع وزن هریک از آنها احتمال وجود داشتن آن لیبل در بیل لیبل‌های داده‌ی تست است. معیار \n",
    "Micro-F1 \n",
    "تعداد تمامی پیش بینی‌های درست به تعداد کل پیش بینی ها را بیان می‌کند. \n",
    "</div>"
   ]
  },
  {
   "cell_type": "code",
   "execution_count": 17,
   "metadata": {},
   "outputs": [],
   "source": [
    "def calPredictedLabelProb(predicted):\n",
    "    predictedLabelsCount = dict()\n",
    "    for label in labels:\n",
    "        predictedLabelsCount[label] = 0\n",
    "    for label in predicted:\n",
    "        predictedLabelsCount[label] += 1 / len(predicted)\n",
    "    return predictedLabelsCount"
   ]
  },
  {
   "cell_type": "code",
   "execution_count": 18,
   "metadata": {},
   "outputs": [],
   "source": [
    "def validatePrediction(predicted):\n",
    "\n",
    "    rowsNames = ['Precision', 'Recall', 'F1-score', 'Accuracy', 'Macro Avg', 'Micro Avg', 'Weighted Avg']\n",
    "    columnsNames = np.append(labels, 'All Classes')\n",
    "    valuationTable = pd.DataFrame(columns=columnsNames, index=rowsNames)\n",
    "    F1 = { label : 0 for label in labels}\n",
    "    correctDetected = 0\n",
    "    weightedAvg = 0\n",
    "    allDetected = 0\n",
    "    total =  np.sum(list(testData['label'].value_counts()))\n",
    "    for label in labels:\n",
    "        totalClass = testData['label'].value_counts()[label]\n",
    "        correctDetectedClass = 0\n",
    "        allDetectedClass = 0\n",
    "        for i in range(testRows):\n",
    "            if testData['label'][i] == label and testData['label'][i] == predicted[i]:\n",
    "                correctDetectedClass += 1\n",
    "            if predicted[i] == label:\n",
    "                allDetectedClass += 1\n",
    "        allDetected += allDetectedClass\n",
    "        correctDetected += correctDetectedClass\n",
    "        precision = correctDetectedClass / allDetectedClass\n",
    "        recall = correctDetectedClass / totalClass\n",
    "        F1[label] = 2 * precision * recall / (precision + recall)\n",
    "        valuationTable[label]['Precision'] = precision * 100\n",
    "        valuationTable[label]['Recall'] = recall * 100\n",
    "        valuationTable[label]['F1-score'] = F1[label] * 100\n",
    "        weightedAvg += calcPriorTestProb(label) * F1[label] \n",
    "    valuationTable['All Classes']['Accuracy'] = correctDetected / total * 100\n",
    "    valuationTable['All Classes']['Macro Avg'] = np.mean(list(F1.values())) * 100\n",
    "    valuationTable['All Classes']['Micro Avg'] = correctDetected / allDetected * 100\n",
    "    valuationTable['All Classes']['Weighted Avg'] = weightedAvg * 100\n",
    "    valuationTable.fillna('-', inplace=True)\n",
    "    return valuationTable\n",
    "\n",
    "        \n",
    "withoutSmoothingvaluationTable = validatePrediction(predictedWithoutSmoothing)\n",
    "predictedWithSmoothing = predictLabels(testDataContentWords, ngramDict, totalCount, 1)\n",
    "withSmoothingvaluationTable = validatePrediction(predictedWithSmoothing)"
   ]
  },
  {
   "cell_type": "markdown",
   "metadata": {},
   "source": [
    "**Question 10**"
   ]
  },
  {
   "cell_type": "markdown",
   "metadata": {},
   "source": [
    "<div dir='rtl'>\n",
    "جدول مقادیر خواسته شده به ازای زمانی که از \n",
    "Additive Smoothing \n",
    "استفاده نمی‌کنیم و آلفا برابر با 1 است در زیر نمایش داده شده است:\n",
    "\n",
    "</div>"
   ]
  },
  {
   "cell_type": "code",
   "execution_count": 19,
   "metadata": {},
   "outputs": [
    {
     "data": {
      "text/html": [
       "<div>\n",
       "<style scoped>\n",
       "    .dataframe tbody tr th:only-of-type {\n",
       "        vertical-align: middle;\n",
       "    }\n",
       "\n",
       "    .dataframe tbody tr th {\n",
       "        vertical-align: top;\n",
       "    }\n",
       "\n",
       "    .dataframe thead th {\n",
       "        text-align: right;\n",
       "    }\n",
       "</style>\n",
       "<table border=\"1\" class=\"dataframe\">\n",
       "  <thead>\n",
       "    <tr style=\"text-align: right;\">\n",
       "      <th></th>\n",
       "      <th>فناوری</th>\n",
       "      <th>ورزشی</th>\n",
       "      <th>حوادث</th>\n",
       "      <th>سلامت</th>\n",
       "      <th>سیاسی</th>\n",
       "      <th>فرهنگی/هنری</th>\n",
       "      <th>All Classes</th>\n",
       "    </tr>\n",
       "  </thead>\n",
       "  <tbody>\n",
       "    <tr>\n",
       "      <th>Precision</th>\n",
       "      <td>89.69697</td>\n",
       "      <td>98.816568</td>\n",
       "      <td>94.444444</td>\n",
       "      <td>94.011976</td>\n",
       "      <td>78.440367</td>\n",
       "      <td>68.376068</td>\n",
       "      <td>-</td>\n",
       "    </tr>\n",
       "    <tr>\n",
       "      <th>Recall</th>\n",
       "      <td>88.095238</td>\n",
       "      <td>87.894737</td>\n",
       "      <td>76.5</td>\n",
       "      <td>88.700565</td>\n",
       "      <td>85.5</td>\n",
       "      <td>88.888889</td>\n",
       "      <td>-</td>\n",
       "    </tr>\n",
       "    <tr>\n",
       "      <th>F1-score</th>\n",
       "      <td>88.888889</td>\n",
       "      <td>93.036212</td>\n",
       "      <td>84.530387</td>\n",
       "      <td>91.27907</td>\n",
       "      <td>81.818182</td>\n",
       "      <td>77.294686</td>\n",
       "      <td>-</td>\n",
       "    </tr>\n",
       "    <tr>\n",
       "      <th>Accuracy</th>\n",
       "      <td>-</td>\n",
       "      <td>-</td>\n",
       "      <td>-</td>\n",
       "      <td>-</td>\n",
       "      <td>-</td>\n",
       "      <td>-</td>\n",
       "      <td>85.73991</td>\n",
       "    </tr>\n",
       "    <tr>\n",
       "      <th>Macro Avg</th>\n",
       "      <td>-</td>\n",
       "      <td>-</td>\n",
       "      <td>-</td>\n",
       "      <td>-</td>\n",
       "      <td>-</td>\n",
       "      <td>-</td>\n",
       "      <td>86.141237</td>\n",
       "    </tr>\n",
       "    <tr>\n",
       "      <th>Micro Avg</th>\n",
       "      <td>-</td>\n",
       "      <td>-</td>\n",
       "      <td>-</td>\n",
       "      <td>-</td>\n",
       "      <td>-</td>\n",
       "      <td>-</td>\n",
       "      <td>85.73991</td>\n",
       "    </tr>\n",
       "    <tr>\n",
       "      <th>Weighted Avg</th>\n",
       "      <td>-</td>\n",
       "      <td>-</td>\n",
       "      <td>-</td>\n",
       "      <td>-</td>\n",
       "      <td>-</td>\n",
       "      <td>-</td>\n",
       "      <td>86.053243</td>\n",
       "    </tr>\n",
       "  </tbody>\n",
       "</table>\n",
       "</div>"
      ],
      "text/plain": [
       "                 فناوری      ورزشی      حوادث      سلامت      سیاسی  \\\n",
       "Precision      89.69697  98.816568  94.444444  94.011976  78.440367   \n",
       "Recall        88.095238  87.894737       76.5  88.700565       85.5   \n",
       "F1-score      88.888889  93.036212  84.530387   91.27907  81.818182   \n",
       "Accuracy              -          -          -          -          -   \n",
       "Macro Avg             -          -          -          -          -   \n",
       "Micro Avg             -          -          -          -          -   \n",
       "Weighted Avg          -          -          -          -          -   \n",
       "\n",
       "             فرهنگی/هنری All Classes  \n",
       "Precision      68.376068           -  \n",
       "Recall         88.888889           -  \n",
       "F1-score       77.294686           -  \n",
       "Accuracy               -    85.73991  \n",
       "Macro Avg              -   86.141237  \n",
       "Micro Avg              -    85.73991  \n",
       "Weighted Avg           -   86.053243  "
      ]
     },
     "execution_count": 19,
     "metadata": {},
     "output_type": "execute_result"
    }
   ],
   "source": [
    "withoutSmoothingvaluationTable"
   ]
  },
  {
   "cell_type": "markdown",
   "metadata": {},
   "source": [
    "<div dir='rtl'>\n",
    "جدول مقادیر خواسته شده به ازای زمانی که از \n",
    "Additive Smoothing \n",
    "استفاده می‌کنیم و آلفا برابر با 0 است در زیر نمایش داده شده است:\n",
    "\n",
    "</div>"
   ]
  },
  {
   "cell_type": "code",
   "execution_count": 20,
   "metadata": {},
   "outputs": [
    {
     "data": {
      "text/html": [
       "<div>\n",
       "<style scoped>\n",
       "    .dataframe tbody tr th:only-of-type {\n",
       "        vertical-align: middle;\n",
       "    }\n",
       "\n",
       "    .dataframe tbody tr th {\n",
       "        vertical-align: top;\n",
       "    }\n",
       "\n",
       "    .dataframe thead th {\n",
       "        text-align: right;\n",
       "    }\n",
       "</style>\n",
       "<table border=\"1\" class=\"dataframe\">\n",
       "  <thead>\n",
       "    <tr style=\"text-align: right;\">\n",
       "      <th></th>\n",
       "      <th>فناوری</th>\n",
       "      <th>ورزشی</th>\n",
       "      <th>حوادث</th>\n",
       "      <th>سلامت</th>\n",
       "      <th>سیاسی</th>\n",
       "      <th>فرهنگی/هنری</th>\n",
       "      <th>All Classes</th>\n",
       "    </tr>\n",
       "  </thead>\n",
       "  <tbody>\n",
       "    <tr>\n",
       "      <th>Precision</th>\n",
       "      <td>96.296296</td>\n",
       "      <td>98.924731</td>\n",
       "      <td>90.186916</td>\n",
       "      <td>96.551724</td>\n",
       "      <td>90.047393</td>\n",
       "      <td>95.833333</td>\n",
       "      <td>-</td>\n",
       "    </tr>\n",
       "    <tr>\n",
       "      <th>Recall</th>\n",
       "      <td>92.857143</td>\n",
       "      <td>96.842105</td>\n",
       "      <td>96.5</td>\n",
       "      <td>94.915254</td>\n",
       "      <td>95.0</td>\n",
       "      <td>89.444444</td>\n",
       "      <td>-</td>\n",
       "    </tr>\n",
       "    <tr>\n",
       "      <th>F1-score</th>\n",
       "      <td>94.545455</td>\n",
       "      <td>97.87234</td>\n",
       "      <td>93.236715</td>\n",
       "      <td>95.726496</td>\n",
       "      <td>92.457421</td>\n",
       "      <td>92.528736</td>\n",
       "      <td>-</td>\n",
       "    </tr>\n",
       "    <tr>\n",
       "      <th>Accuracy</th>\n",
       "      <td>-</td>\n",
       "      <td>-</td>\n",
       "      <td>-</td>\n",
       "      <td>-</td>\n",
       "      <td>-</td>\n",
       "      <td>-</td>\n",
       "      <td>94.349776</td>\n",
       "    </tr>\n",
       "    <tr>\n",
       "      <th>Macro Avg</th>\n",
       "      <td>-</td>\n",
       "      <td>-</td>\n",
       "      <td>-</td>\n",
       "      <td>-</td>\n",
       "      <td>-</td>\n",
       "      <td>-</td>\n",
       "      <td>94.394527</td>\n",
       "    </tr>\n",
       "    <tr>\n",
       "      <th>Micro Avg</th>\n",
       "      <td>-</td>\n",
       "      <td>-</td>\n",
       "      <td>-</td>\n",
       "      <td>-</td>\n",
       "      <td>-</td>\n",
       "      <td>-</td>\n",
       "      <td>94.349776</td>\n",
       "    </tr>\n",
       "    <tr>\n",
       "      <th>Weighted Avg</th>\n",
       "      <td>-</td>\n",
       "      <td>-</td>\n",
       "      <td>-</td>\n",
       "      <td>-</td>\n",
       "      <td>-</td>\n",
       "      <td>-</td>\n",
       "      <td>94.364996</td>\n",
       "    </tr>\n",
       "  </tbody>\n",
       "</table>\n",
       "</div>"
      ],
      "text/plain": [
       "                 فناوری      ورزشی      حوادث      سلامت      سیاسی  \\\n",
       "Precision     96.296296  98.924731  90.186916  96.551724  90.047393   \n",
       "Recall        92.857143  96.842105       96.5  94.915254       95.0   \n",
       "F1-score      94.545455   97.87234  93.236715  95.726496  92.457421   \n",
       "Accuracy              -          -          -          -          -   \n",
       "Macro Avg             -          -          -          -          -   \n",
       "Micro Avg             -          -          -          -          -   \n",
       "Weighted Avg          -          -          -          -          -   \n",
       "\n",
       "             فرهنگی/هنری All Classes  \n",
       "Precision      95.833333           -  \n",
       "Recall         89.444444           -  \n",
       "F1-score       92.528736           -  \n",
       "Accuracy               -   94.349776  \n",
       "Macro Avg              -   94.394527  \n",
       "Micro Avg              -   94.349776  \n",
       "Weighted Avg           -   94.364996  "
      ]
     },
     "execution_count": 20,
     "metadata": {},
     "output_type": "execute_result"
    }
   ],
   "source": [
    "withSmoothingvaluationTable"
   ]
  },
  {
   "cell_type": "markdown",
   "metadata": {},
   "source": [
    "**Question 11**"
   ]
  },
  {
   "cell_type": "markdown",
   "metadata": {},
   "source": [
    "<div dir='rtl'>\n",
    "همانطور که می‌بینیم با استفاده از \n",
    "Additive Smoothing \n",
    "اغلب درصدها افزایش یافت؛ همانطور که پیش تر ذکر شد استفاده از \n",
    "Additive Smoothing \n",
    "باعث می‌شود تا به جای استفاده از احتمال 0، از احتمال بسیار کوچکی استفاده کنیم چون در صورت کسر احتمال با آلفا جمع می‌شود که مقدار آن 1 درنظر گرفته می‌شود. مورد دیگری که قابل توجه است تفاوت \n",
    "recall \n",
    "و \n",
    "precision \n",
    "است که زمانی که مقدار یکی کم است، مقدار دیگری بالا است و دلیل این نیز پیش تر ذکر شده است و \n",
    "F1 \n",
    "که معیار دقیقتری از \n",
    "recall \n",
    "و \n",
    "precision \n",
    "است،میانگینی از این دو مقدار را نمایش می‌دهد. </br>\n",
    "\n",
    "</div>"
   ]
  },
  {
   "cell_type": "code",
   "execution_count": 21,
   "metadata": {},
   "outputs": [
    {
     "name": "stdout",
     "output_type": "stream",
     "text": [
      "correct label:  فرهنگی/هنری\n",
      "predicted label:  سیاسی\n",
      "اعتراض گسترده کاربران توییتر به اظهارات وزیر امورخارجه آمریکا هشتگ انگلیسی پرشین گلف (خلیج فارس) را در توییتر ترند کرد. به گزارش خبرآنلاین، رکس تیلرسون وزیر امورخارجه آمریکا در اظهارات اخیرش با به کار بردن واژه‌ای مجعول به جای خلیج فارس موجی از اعتراضات را در شبکه‌های اجتماعی برانگیخت. بسیاری از کاربران شبکه‌های اجتماعی به ویژه توییتر برای اعتراض به این موضوع از هشتگ انگلیسی «PersianGulf» استفاده کردند. همین موضوع سبب شد که این هشتگ مدتی در توییتر ترند شود.\n",
      "-------------------------------------\n",
      "correct label:  سیاسی\n",
      "predicted label:  حوادث\n",
      "وکیل مدافع نازنین زاغری متهم ایرانی - بریتانیایی از برگزاری دادگاه و اعلام ختم رسیدگی به دومین پرونده موکلش به اتهام فعالیت تبلیغی علیه نظام  در شعبه ۱۵ دادگاه انقلاب به ریاست قاضی صلواتی خبر داد.\n",
      "-------------------------------------\n",
      "correct label:  فرهنگی/هنری\n",
      "predicted label:  ورزشی\n",
      "- روز گذشته در حاشیه معرفی ساپینتو سر مربی باشگاه استقلال مصطفی آجورلو از یک خبر داد، مدیرعامل استقلال اعلام کرد شبکه ماهواره‌ای استقلال به صورت آزمایشی فعالیت خود را آغاز کرد.  آجرلو گفت: «می‌خواهم به همه هواداران یک خبر خوب و ویژه بدهم. شبکه استقلال از طریق ماهواره، هم اکنون فعالیت خود را به‌صورت آزمایشی آغاز کرد. ما از طریق ماهواره، کار شبکه تلویزیونی استقلال را به صورت آزمایشی آغاز کردیم. درباره تلویزیون باید بگویم که منافع استقلال که است گم شده است و من باید این مبلغ را از صدا و سیما بگیرم. من دست‌بوس همه عوامل صدا وسیما هستم اما این پول باید داده شود اما هنوز هیچ اقدامی انجام نشده است. من ولی کار خود را می‌کنم و شبکه استقلال را راه‌اندازی می‌کنم. تا هفته دیگر همه می‌تواند شبکه استقلال را ببیند. ما از تیم، قهرمانی می‌خواهیم و از دیگران هم می‌خواهیم حق استقلال را ضایع نکنند. [...] از هفته آینده همه مردم می توانند به شبکه ماهواره ای استقلال دسترسی داشته باشند.» بررسی‌ها نشان می‌دهد که شبکه استقلال در حال حاضر روی و همچنین تلویزیون‌های سامسونگ قابل دسترس است و قرار است بر روی هم پخش داشته باشد. این امر اتفاق مبارکی است، باشگاه استقلال به عنوان یکی از دو تیم اصلی و پر هوادار پایتخت، از این پتانسیل می‌تواند به خوبی بهره ببرد چه به لحاظ اطلاع رسانی درست و ارتباط مستقیم با هوادارن و چه از منظر اتفاقات فرهنگی ، ورزشی باشگاه و البته از همه مهمتر به عنوان یک بنگاه اقتصادی و درآمدزایی برای باشگاه. از جنبه‌های مختلف می توان به این شبکه تلویزیونی نگاه کرد و با برنامه‌های متنوع از اتفاقات روزمره استقلال گرفته تا پخش بازی‌های قدیمی استقلال، پرداختن به بازیکنان و پیشکسوتان باشگاه، تمرین‌های این تیم ، بازی‌های لیگ، پوشش تیم‌های پایه و ... همگی آیتم‌های جذاب و البته مورد نیاز برای باشگاهی چون استقلال است. چه نیکوست که باشگاه‌های پرطرفدار دیگر چون پرسپولیس، تراکتور، سپاهان و ... این راه را ادامه داده و هر کدام برای خود شبکه تلویزیونی درست کنند. قطعا چنین اتفاقی برای همه مثبت است، باشگاه ، هوادار، بازیکنان، و ...  یک نکته مثبت دیگر آن در فوتبال ایران است که سالهای مدیدی است حق پخش تلویزیونی مسابقات، نحوه پوشش اخبار ، اطلاع رسانی و ... مناقشه‌ای بی پایان برای فوتبال ایران را رقم زده است.  این نکته مثبت البته در چنین شرایطی احتمال دارد که چالش میان استقلال و صداسیما را بیشتر کند. در همین گفته‌ها آجرلو اشاره کرده است که باشگاه استقلال هزار میلیارد تومان از صداوسیما طلب دارد (گم شده است) وئولی هیچ اقدامی برای آن صورت نگرفته است. طبیعتا اگر شبکه‌های تلویزیونی دیگری وجود داشته باشد، صداوسیما از کنار چنین اتفاقاتی چنین چراغ خاموش و بی صدا عبور نخواهد کرد. امیدواریم که این اقدام شجاعانه آجرلو سرکوب نشود و تلویزیون باشگاه استقلال همچنان ادامه یابد، همچنین امیدواریم صداوسیما هم چوب لای چرخ آن نگذارد (مانند اتفاقاتی که برای پلتفرم‌های نمایش خانگی در حال رخ دادن است) ، این اتفاق حسن مضاعف است. اساسا وجود در کشور یکی از نکات مغفول مانده است که قطعا جای خالی آن احساس می‌شود، در هر پدیده‌ای وجود رقیب و فضای باز و سالم برای رقابت منجر به رشد و شکوفایی خواهد شد. در تمام دنیا باشگاه‌های ورزشی پرطرفدار چنین شبکه‌های تلویزیونی دارند ، حیف است که ورزش ایران و علی الخصوص فوتبال ایران تا به امروز از چنین امکانی محروم مانده است. اگر آجرلو این اتفاق را به نتیجه برساند و بتواند تداوم آن را رقم بزند، قطعا اسم او به عنوان آغازکننده راهی جدید در ورزش و رسانه کشور خواهد ماند.\n",
      "-------------------------------------\n",
      "correct label:  سلامت\n",
      "predicted label:  سیاسی\n",
      "وزیر بهداشت، طی نامه‌ای به معاون بهداشت این وزارتخانه دستور داد که هر چه سریع‌تر مرکز خدمات جامع سلامت در روستای چنار محمودی ایجاد و تیم تخصصی و فوق‌تخصصی در این مرکز مستقر شود. به گزارش ایسنا و بنا بر اعلام وبدا، متن نامه دکتر سعید نمکی خطاب به دکتر علیرضا رییسی- معاون بهداشت وزارت بهداشت به شرح زیر است: «اینک که با هوشمندی مردم عزیز و تلاش بی وقفه مسئولین محترم، گروه‌های ضد انقلاب و معاند در ایجاد آشوب به بهانه آلودگی تعدادی از هموطنان‌مان به ویروس HIV ناکام ماندند و ضمن تشکر از پیگیری‌های مستمر جنابعالی، جناب آقای دکتر گویا و افراد فعال در حدود ۲۰ تیم اعزامی در ماه‌های اخیر به استان چهارمحال بختیاری و بررسی‌های دقیق کارشناسی همکاران استانی و ستادی، ضروریست موارد زیر مورد توجه قرار گیرد. گروهی فتنه انگیز جهت تشویش اذهان عمومی تلاش کرده اند از یکسو کلیه مردم شریف روستای چنارمحمودی را آلوده به ویروس قلمداد نمایند که آخرین بررسی‌ها خوشبختانه حاکی از آلودگی درصد کمی از مردم و سلامتی اکثر اهالی روستاست.   از سوی دیگر سعی کردند از این ابزار کذب جهت بدنامی نظام بهداشتی درمانی کشور و نهایتا\" ضربه به آبروی جمهوری اسلامی در رسانه‌های بیگانه بهره برداری کنند که در این راستا نیز بحمدالله توفیق نیافتند و مردم شریف منطقه تا آخرین لحظه با تیم بهداشت و درمان همکاری و همراهی نمودند و در حال حاضر نیز با استقرار همکاران فوق تخصص در محل این همراهی صمیمانه ادامه دارد. در راستای این نیت شوم تلاش نمودند موضع‌گیری در راستای دفاع از حیثیت نظام بهداشتی درمانی کشور و خدمتگزاران به مردم را بعنوان ابزاری جهت جریحه دار نمودن عواطف پاک مردم شریف آن روستا استفاده نمایند، ضروریست جنابعالی و همکاران ارجمند ستادی و محلی این واقعیت را به مردم عزیز منتقل نمایند که هیچ کس و در هیچ شرایطی قصد حرمت‌شکنی آن عزیزان را نداشته و ندارد. بکارگیری عبارت «روابط نامطلوب» در گفتمان متداول سازمانی به هرگونه حرکت و فرآیندی اطلاق می‌شود که با اصول، ضوابط و استاندار‌های علمی منطبق نباشد. بدیهی است نامطلوب بودن هرکدام از فرآیند‌ها می‌تواند در ایجاد بیماری نقش‌آفرینی کند که مصادیق متعددی دارد. این تعبیر به مراتب متفاوت از این است که گروهی با غرض و شیطنت آن را \"روابط نامشروع\" تفسیر و تعمیم داده و موجب تشویش اذهان این عزیزان شده‌اند. کودک دو ساله گرفتار و یا مردم متشرع و خانواده‌های شریف و مومنی که ممکن است در بین افراد مبتلا باشند، کدام بی انصاف گرفتاریش را حاصل روابط نامشروع تفسیر می‌کند. جنابعالی و همکارانتان وظیفه دارید این سوء‌تفاهم را از ذهن مردم عزیز و شریف بزدائید و اعتقاد همه را به پایبندی ایشان به اصول دینی و اخلاقی اعلام نمائید تا خدای ناکرده غباری از سوء‌تفاهم بر دل پاک این قوم نازنین نماند. \"فعلا\" اولویت ما دریافتن بیماران و مساعدت‌های فوریست. لازمست هرچه زودتر با تقویت تیم پزشکی موجود در منطقه فرآیند درمان جسمی و روحی این عزیزان تسریع و نتیجه گزارش شود. تامین دارو، تحت پوشش قرار دادن موارد غیر بیمه، توانبخشی و پوشش امدادی بدون وقفه باید انجام پذیرد. بدیهی است کلیه موارد تشخیصی و درمانی تا انتها رایگان خواهد بود. جهت ایجاد مرکز خدمات جامع سلامت در روستا هرچه زودتر اقدام و تیم تخصصی و فوق تخصصی در مرکز مذکور و همچنین در مرکز مشاوره شهرستان لردگان مستقر و نتیجه روزانه اعلام شود.»\n",
      "-------------------------------------\n",
      "correct label:  فناوری\n",
      "predicted label:  حوادث\n",
      "روز گذشته یک موشک دو مرحله‌ای فالکون ۹ حامل ۴۰ ماهواره در ساعت ۱۲:۲۴ بعد از ظهر به وقت منطقه زمانی شرقی (۲۰:۵۴ به وقت تهران) از پایگاه نیروی فضایی کیپ کاناورال فلوریدا به فضا پرتاب شد.\n",
      "-------------------------------------\n"
     ]
    }
   ],
   "source": [
    "testDataCopy = testData.copy()\n",
    "testDataCopy['predicted'] = predictedWithSmoothing\n",
    "testDataCopy['correct'] = testDataCopy['label'] == testDataCopy['predicted']\n",
    "testDataCopy['correct'] = testDataCopy['correct'].apply(lambda x : '✓' if x else '✗')\n",
    "\n",
    "count = 0\n",
    "for i in range(testRows):\n",
    "    if count == 5:\n",
    "        break\n",
    "    if testDataCopy['correct'][i] == '✗':\n",
    "        print('correct label: ',testDataCopy['label'][i])\n",
    "        print('predicted label: ',testDataCopy['predicted'][i])\n",
    "        print(testDataCopy['content'][i])  \n",
    "        print('-------------------------------------')\n",
    "        count += 1\n",
    "\n",
    "# testDataCopy.head(5)"
   ]
  },
  {
   "cell_type": "markdown",
   "metadata": {},
   "source": [
    "**Question 12**"
   ]
  },
  {
   "cell_type": "markdown",
   "metadata": {},
   "source": [
    "<div dir='rtl'>\n",
    "در خبر اول کلمه \"وزیر امور خارجه\" که به سیسات نزدیک است باعث به اشتباه تشخیص دادن خبر شد. در خبر دوم کلمه \"ختم\" که نزدیک به موضوع حوادث و مرگ است باعث اشتباه شد. در خبر سوم کلمه \"سرمربی باشگاه\" که به موضوع ورزشی نزدیک است باعث اشتباه در تشخیص شد و در خبر چهارم کلمه \"وزیر وزارتحانه\" باعث لیبل سیاسی شد. در خبر پنجم چون طول خبر بسیار کم بود و فقط شامل دو کلمه بود تشخیص با خطا روبه‌رو شد. در واقع چون در این مدل تنها بر اساس کلمات به پیش بینی لیبل هر خبر پرداختیم و بعضی کلمات با فرکانش بالایی در برخی لیبل‌ها وجود داشت باعث شد تا مدل ما با دیدن آن کلمه لیبل اشتباهی را تشخیص دهد. </br> \n",
    "\n",
    "</div>"
   ]
  }
 ],
 "metadata": {
  "kernelspec": {
   "display_name": "Python 3.10.4 64-bit",
   "language": "python",
   "name": "python3"
  },
  "language_info": {
   "codemirror_mode": {
    "name": "ipython",
    "version": 3
   },
   "file_extension": ".py",
   "mimetype": "text/x-python",
   "name": "python",
   "nbconvert_exporter": "python",
   "pygments_lexer": "ipython3",
   "version": "3.10.4"
  },
  "orig_nbformat": 4,
  "vscode": {
   "interpreter": {
    "hash": "369f2c481f4da34e4445cda3fffd2e751bd1c4d706f27375911949ba6bb62e1c"
   }
  }
 },
 "nbformat": 4,
 "nbformat_minor": 2
}
